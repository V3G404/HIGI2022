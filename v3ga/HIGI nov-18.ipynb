{
 "cells": [
  {
   "cell_type": "markdown",
   "id": "78509404-7940-4c05-bd20-6774ccb7c08e",
   "metadata": {},
   "source": [
    "# HIGI 2022, Nov-18 #"
   ]
  },
  {
   "cell_type": "code",
   "execution_count": 2,
   "id": "482b5862-7753-4c82-ae84-a3a2e8be8d9e",
   "metadata": {
    "tags": []
   },
   "outputs": [
    {
     "data": {
      "text/plain": [
       "4"
      ]
     },
     "execution_count": 2,
     "metadata": {},
     "output_type": "execute_result"
    }
   ],
   "source": [
    "2+2"
   ]
  },
  {
   "cell_type": "markdown",
   "id": "56be7262-ac82-45f1-b37e-a118dee1824a",
   "metadata": {},
   "source": [
    "Un poquito de texto para calcular :c"
   ]
  },
  {
   "cell_type": "markdown",
   "id": "5070e244-e6ca-4190-a2c3-566198eb171c",
   "metadata": {},
   "source": [
    "Vamos a hacer una pequeña práctica:"
   ]
  },
  {
   "cell_type": "code",
   "execution_count": 3,
   "id": "a745c451-26d7-4870-8e2a-ae09f46f3829",
   "metadata": {},
   "outputs": [],
   "source": [
    "# Resolver el movimiento de los planetas"
   ]
  },
  {
   "cell_type": "markdown",
   "id": "9d65d756-3ee3-4d83-b845-1f062e40392e",
   "metadata": {},
   "source": [
    "Segunda ley de Newton:"
   ]
  },
  {
   "cell_type": "code",
   "execution_count": 8,
   "id": "362ce4a0-d7f6-4fe9-b344-7bae5e409878",
   "metadata": {},
   "outputs": [],
   "source": [
    "import numpy as np\n",
    "import matplotlib.pyplot as plt\n",
    "G = 4*(np.pi)**2\n",
    "M = 1\n",
    "r = np.sqrt(x**2 + y**2 + z**2) \n"
   ]
  },
  {
   "cell_type": "code",
   "execution_count": 9,
   "id": "a1d62769-e107-45b8-af69-1baf4019c5ca",
   "metadata": {},
   "outputs": [],
   "source": [
    "# Unidades astrónomicas = distancia tierra-sol\n",
    "# Necesitamos utilizar gravitational constant en unidades astronomicas"
   ]
  },
  {
   "cell_type": "code",
   "execution_count": 3,
   "id": "5047fd9a-1ac2-4ba5-b403-3eed9b136c56",
   "metadata": {},
   "outputs": [
    {
     "ename": "IndentationError",
     "evalue": "expected an indented block after function definition on line 1 (2683127003.py, line 2)",
     "output_type": "error",
     "traceback": [
      "\u001b[0;36m  Cell \u001b[0;32mIn [3], line 2\u001b[0;36m\u001b[0m\n\u001b[0;31m    {x, y, z} = [x0], [y0], [z0]\u001b[0m\n\u001b[0m    ^\u001b[0m\n\u001b[0;31mIndentationError\u001b[0m\u001b[0;31m:\u001b[0m expected an indented block after function definition on line 1\n"
     ]
    }
   ],
   "source": [
    "def euler(x0, y0, z0, v0, t0=0, h=0.001, nsteps=1):\n",
    "x, y, z = [[x0]], [[y0]], [[z0]] \n",
    "t = [t0]\n",
    "for i in range (1,nsteps):\n",
    "    x, y, z = x0 + v0x*h, y0 + v0y*h, z0 + v0z*h\n",
    "    vx, vy, vz = v0 - G*Mh/(r)**3, \n",
    "    vx = v0x - ((GM)/(rp)**3)\n",
    "x(t) = \n",
    "rp = \n"
   ]
  },
  {
   "cell_type": "code",
   "execution_count": 20,
   "id": "a5e9cc20-5815-4938-9ad4-12735f80f78b",
   "metadata": {},
   "outputs": [],
   "source": [
    "#unidades astronomicas al cubo entre año por masas solares"
   ]
  },
  {
   "cell_type": "code",
   "execution_count": 21,
   "id": "77816c62-9ce4-46cc-b455-6f3005f7ce70",
   "metadata": {},
   "outputs": [],
   "source": [
    "#velocidad en unidades astronomicas es:\n",
    "# dt = 0.00001\n"
   ]
  },
  {
   "cell_type": "code",
   "execution_count": 25,
   "id": "2c60ab80-ac28-4d83-b93e-e9b6bef19375",
   "metadata": {},
   "outputs": [],
   "source": []
  },
  {
   "cell_type": "code",
   "execution_count": null,
   "id": "0e6f089d-43f5-42dd-bd2d-32f4cbdcfd77",
   "metadata": {},
   "outputs": [],
   "source": []
  }
 ],
 "metadata": {
  "kernelspec": {
   "display_name": "Python 3 (ipykernel)",
   "language": "python",
   "name": "python3"
  },
  "language_info": {
   "codemirror_mode": {
    "name": "ipython",
    "version": 3
   },
   "file_extension": ".py",
   "mimetype": "text/x-python",
   "name": "python",
   "nbconvert_exporter": "python",
   "pygments_lexer": "ipython3",
   "version": "3.10.8"
  }
 },
 "nbformat": 4,
 "nbformat_minor": 5
}
